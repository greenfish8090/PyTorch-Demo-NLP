{
 "cells": [
  {
   "cell_type": "markdown",
   "id": "a69b0292",
   "metadata": {},
   "source": [
    "# Imports"
   ]
  },
  {
   "cell_type": "code",
   "execution_count": 1,
   "id": "8c68062a",
   "metadata": {},
   "outputs": [
    {
     "data": {
      "text/plain": [
       "device(type='cuda')"
      ]
     },
     "execution_count": 1,
     "metadata": {},
     "output_type": "execute_result"
    }
   ],
   "source": [
    "from tqdm.auto import tqdm\n",
    "import numpy as np\n",
    "import matplotlib.pyplot as plt\n",
    "%matplotlib inline\n",
    "import torch\n",
    "import torchvision\n",
    "import torchmetrics\n",
    "device = torch.device('cuda' if torch.cuda.is_available() else 'cpu')\n",
    "device"
   ]
  },
  {
   "cell_type": "markdown",
   "id": "b8ca2e7e",
   "metadata": {},
   "source": [
    "# Loading the MNIST dataset"
   ]
  },
  {
   "cell_type": "code",
   "execution_count": 2,
   "id": "6bbc7b95",
   "metadata": {},
   "outputs": [
    {
     "data": {
      "text/plain": [
       "(Dataset MNIST\n",
       "     Number of datapoints: 60000\n",
       "     Root location: data/mnist\n",
       "     Split: Train\n",
       "     StandardTransform\n",
       " Transform: ToTensor(),\n",
       " Dataset MNIST\n",
       "     Number of datapoints: 10000\n",
       "     Root location: data/mnist\n",
       "     Split: Test\n",
       "     StandardTransform\n",
       " Transform: ToTensor())"
      ]
     },
     "execution_count": 2,
     "metadata": {},
     "output_type": "execute_result"
    }
   ],
   "source": [
    "train_mnist = torchvision.datasets.MNIST('data/mnist', train=True, download=True, transform=torchvision.transforms.ToTensor())\n",
    "small_train_mnist = torch.utils.data.Subset(train_mnist, np.random.randint(0, len(train_mnist), 10000))\n",
    "test_mnist = torchvision.datasets.MNIST('data/mnist', train=False, download=True, transform=torchvision.transforms.ToTensor())\n",
    "train_mnist, test_mnist"
   ]
  },
  {
   "cell_type": "markdown",
   "id": "38e2c79a",
   "metadata": {},
   "source": [
    "# Dataset format\n",
    "Each instance of data (image) is a torch tensor of shape 1 x 28 x 28 where 28 is the width and height of each image and 1 is channel size. Since the dataset is Black/White,\n",
    "we have only one channel.\\\n",
    "Had this been a dataset of RGB images, there would be 3 channels, making each instance a tensor of shape 3 x 28 x 28."
   ]
  },
  {
   "cell_type": "code",
   "execution_count": 3,
   "id": "8a55659a",
   "metadata": {},
   "outputs": [
    {
     "data": {
      "image/png": "[encoded data removed]",
      "text/plain": [
       "<Figure size 640x480 with 6 Axes>"
      ]
     },
     "metadata": {},
     "output_type": "display_data"
    }
   ],
   "source": [
    "fig = plt.figure()\n",
    "for i in range(6):\n",
    "    image, label = test_mnist[i]\n",
    "    plt.subplot(2,3,i+1)\n",
    "    plt.tight_layout()\n",
    "    plt.imshow(torchvision.transforms.ToPILImage()(image), cmap=\"Greys\")\n",
    "    plt.title(f\"Label: {label}\")\n",
    "    plt.xticks([])\n",
    "    plt.yticks([])"
   ]
  },
  {
   "cell_type": "markdown",
   "id": "823ecf41",
   "metadata": {},
   "source": [
    "# Dataloaders\n",
    "PyTorch uses dataloaders to load batches of data samples at once. Pretty convenient as we don't have to manually sample dataset instances and then collate them. For heavy datasets, you can set the num_workers argument in the dataloader which uses multiprocessing (Multiprocessing doesn't work in interactive notebooks though, you'll have to run it in a .py file)"
   ]
  },
  {
   "cell_type": "code",
   "execution_count": 4,
   "id": "cffdca2b",
   "metadata": {},
   "outputs": [
    {
     "name": "stdout",
     "output_type": "stream",
     "text": [
      "torch.Size([8, 1, 28, 28]) torch.Size([8])\n",
      "torch.Size([8, 784])\n",
      "tensor([7, 6, 3, 8, 9, 2, 4, 8])\n"
     ]
    }
   ],
   "source": [
    "train_loader = torch.utils.data.DataLoader(train_mnist,\n",
    "                                          batch_size=8,\n",
    "                                          shuffle=True)\n",
    "small_train_loader = torch.utils.data.DataLoader(small_train_mnist,\n",
    "                                          batch_size=8,\n",
    "                                          shuffle=True)\n",
    "test_loader = torch.utils.data.DataLoader(test_mnist,\n",
    "                                          batch_size=8)\n",
    "for inputs, labels in train_loader:\n",
    "    batch_size = inputs.shape[0]\n",
    "    print(inputs.shape, labels.shape)\n",
    "    print(inputs.view(batch_size, -1).shape)\n",
    "    print(labels)\n",
    "    break"
   ]
  },
  {
   "attachments": {},
   "cell_type": "markdown",
   "id": "70317e9c",
   "metadata": {},
   "source": [
    "# Model\n",
    "Creating the PyTorch model\n",
    "![image.png](images/mnist_model.png)"
   ]
  },
  {
   "cell_type": "code",
   "execution_count": 5,
   "id": "cc770775",
   "metadata": {},
   "outputs": [],
   "source": [
    "class MNISTModel(torch.nn.Module):\n",
    "    def __init__(self, in_size, hidden_size, out_size):\n",
    "        super().__init__()\n",
    "        self.fc1 = torch.nn.Linear(in_size, hidden_size)\n",
    "        self.fc2 = torch.nn.Linear(hidden_size, hidden_size)\n",
    "        self.fc3 = torch.nn.Linear(hidden_size, out_size)\n",
    "        \n",
    "    def forward(self, x):\n",
    "        x = self.fc1(x) # Equivalent to self.fc1.forward(x)\n",
    "        x = torch.sigmoid(x)\n",
    "        x = self.fc2(x)\n",
    "        x = torch.sigmoid(x)\n",
    "        out = self.fc3(x)\n",
    "        return out"
   ]
  },
  {
   "cell_type": "code",
   "execution_count": 6,
   "id": "7d50d338",
   "metadata": {},
   "outputs": [
    {
     "data": {
      "text/plain": [
       "MNISTModel(\n",
       "  (fc1): Linear(in_features=784, out_features=1568, bias=True)\n",
       "  (fc2): Linear(in_features=1568, out_features=1568, bias=True)\n",
       "  (fc3): Linear(in_features=1568, out_features=10, bias=True)\n",
       ")"
      ]
     },
     "execution_count": 6,
     "metadata": {},
     "output_type": "execute_result"
    }
   ],
   "source": [
    "model = MNISTModel(784, 1568, 10)\n",
    "model.to(device)"
   ]
  },
  {
   "cell_type": "markdown",
   "id": "035c1280",
   "metadata": {},
   "source": [
    "# Optimizer\n",
    "Optimizers deal with updating the model using the model's gradients. Adam is one of the most popular ones which makes updates based on exponential moving averages of gradients and their squares. You don't need to worry too much about the theory, but if you're interested you can [read more](https://machinelearningmastery.com/adam-optimization-algorithm-for-deep-learning/) about it."
   ]
  },
  {
   "cell_type": "code",
   "execution_count": 7,
   "id": "8af50995",
   "metadata": {},
   "outputs": [],
   "source": [
    "# lr is the learning rate\n",
    "optimizer = torch.optim.Adam(model.parameters(), lr=1e-4)"
   ]
  },
  {
   "cell_type": "code",
   "execution_count": 8,
   "id": "7eadb530",
   "metadata": {},
   "outputs": [],
   "source": [
    "# Utility function to evaluate a model using a dataloader. This one calculates accuracy\n",
    "def test(model, loader):\n",
    "    # Set the model to eval mode. See line 20 in the next code block for more info\n",
    "    model.eval()\n",
    "    \n",
    "    # torchmetrics is a library that makes accuracy evaluation convenient. You can very easily do it manually as well\n",
    "    # using only tensor operations\n",
    "    accuracy = torchmetrics.Accuracy().to(device)\n",
    "    \n",
    "    # For each batch in the dataloader...\n",
    "    for inputs, labels in tqdm(loader, disable=True):\n",
    "        inputs = inputs.to(device)\n",
    "        labels = labels.to(device)\n",
    "        \n",
    "        batch_size = inputs.shape[0]\n",
    "        \n",
    "        # Generate predictions. If you're wondering what torch.no_grad() is, it is a context manager that tells pytorch\n",
    "        # that we don't need to calculate gradients. Saves computation.\n",
    "        # We can only afford to do this here, not in the training\n",
    "        # process because, well, we need the gradients there.\n",
    "        with torch.no_grad():\n",
    "            predictions = model(inputs.view(batch_size, -1))\n",
    "        accuracy.update(predictions, labels)\n",
    "    \n",
    "    return accuracy.compute()"
   ]
  },
  {
   "cell_type": "markdown",
   "id": "34f5b14a",
   "metadata": {},
   "source": [
    "# The main training loop"
   ]
  },
  {
   "cell_type": "code",
   "execution_count": 9,
   "id": "52181dda",
   "metadata": {},
   "outputs": [],
   "source": [
    "# Call this function with argument as number of epochs you want to train the model for\n",
    "def train(epochs): \n",
    "    # Just for plotting later\n",
    "    train_losses = []\n",
    "    for epoch in range(epochs):\n",
    "        for batch_idx, (inputs, labels) in enumerate(pbar := tqdm(train_loader)):\n",
    "            pbar.set_description(f'Epoch {epoch}')\n",
    "            \n",
    "            # Test every 2500 batches. Call the accuracy calculating function for the model with the small_train_loader and\n",
    "            # test_loader\n",
    "            if batch_idx % 2500 == 0:\n",
    "                print(f'After {epoch*7500+batch_idx} batches{\" (No training)\" * (1 - bool(epoch+batch_idx))}:')\n",
    "                print(f'Train accuracy = {test(model, small_train_loader):.2%}')\n",
    "                print(f'Test accuracy = {test(model, test_loader):.2%}')\n",
    "                print('')\n",
    "                \n",
    "                # Set the model to train mode before exiting out of this if condition\n",
    "                # Read more: https://stackoverflow.com/questions/51433378/what-does-model-train-do-in-pytorch\n",
    "                # In actuality, our specific model has no layers that behave differently during training and testing, so this\n",
    "                # is unnecessary. It's just good practice.\n",
    "                model.train()\n",
    "                \n",
    "            # Send inputs and labels to device\n",
    "            inputs = inputs.to(device)\n",
    "            labels = labels.to(device)\n",
    "\n",
    "            # Flatten the inputs from shape (batch_size x 1 x 28 x 28) to shape (batch_size x 768)\n",
    "            # And get model predictions\n",
    "            batch_size = inputs.shape[0]\n",
    "            predictions = model(inputs.view(batch_size, -1)) # Recall that this is just model.forward(...)\n",
    "\n",
    "            # Calculate the loss using labels (Ground truth) and predictions\n",
    "            loss = torch.nn.functional.cross_entropy(predictions, labels)\n",
    "            \n",
    "            # Just for plotting later\n",
    "            train_losses.append(loss.item())\n",
    "            \n",
    "            # Clear out residual model parameter gradients from the previous iteration\n",
    "            optimizer.zero_grad()\n",
    "\n",
    "            # Calculate new gradients for this batch\n",
    "            # ∂L/∂W for all the weights W\n",
    "            # ∂L/∂b for all the biases b\n",
    "            loss.backward()\n",
    "\n",
    "            # Update the model using the gradients and the learning rate α, in essence:\n",
    "            # W <- W + α * ∂L/∂W for all the weights W\n",
    "            # b <- b + α * ∂L/∂b for all the biases b\n",
    "            # But of course, Adam does something slightly more sophisticated as mentioned before\n",
    "            optimizer.step()\n",
    "    \n",
    "    return train_losses"
   ]
  },
  {
   "cell_type": "code",
   "execution_count": 10,
   "id": "10922cee",
   "metadata": {
    "scrolled": false
   },
   "outputs": [
    {
     "data": {
      "application/vnd.jupyter.widget-view+json": {
       "model_id": "541c3028d98c4cafb1b09d0b856f56b7",
       "version_major": 2,
       "version_minor": 0
      },
      "text/plain": [
       "  0%|          | 0/7500 [00:00<?, ?it/s]"
      ]
     },
     "metadata": {},
     "output_type": "display_data"
    },
    {
     "name": "stdout",
     "output_type": "stream",
     "text": [
      "After 0 batches (No training):\n",
      "Train accuracy = 9.55%\n",
      "Test accuracy = 9.34%\n",
      "\n",
      "After 2500 batches:\n",
      "Train accuracy = 87.17%\n",
      "Test accuracy = 88.58%\n",
      "\n",
      "After 5000 batches:\n",
      "Train accuracy = 89.76%\n",
      "Test accuracy = 90.76%\n",
      "\n"
     ]
    },
    {
     "data": {
      "application/vnd.jupyter.widget-view+json": {
       "model_id": "57e0e1dbee4b4ce1b8cb814be56efd84",
       "version_major": 2,
       "version_minor": 0
      },
      "text/plain": [
       "  0%|          | 0/7500 [00:00<?, ?it/s]"
      ]
     },
     "metadata": {},
     "output_type": "display_data"
    },
    {
     "name": "stdout",
     "output_type": "stream",
     "text": [
      "After 7500 batches:\n",
      "Train accuracy = 90.81%\n",
      "Test accuracy = 91.48%\n",
      "\n",
      "After 10000 batches:\n",
      "Train accuracy = 92.50%\n",
      "Test accuracy = 92.98%\n",
      "\n",
      "After 12500 batches:\n",
      "Train accuracy = 92.80%\n",
      "Test accuracy = 93.22%\n",
      "\n"
     ]
    },
    {
     "data": {
      "application/vnd.jupyter.widget-view+json": {
       "model_id": "0611316540824135abac6108b9da52c4",
       "version_major": 2,
       "version_minor": 0
      },
      "text/plain": [
       "  0%|          | 0/7500 [00:00<?, ?it/s]"
      ]
     },
     "metadata": {},
     "output_type": "display_data"
    },
    {
     "name": "stdout",
     "output_type": "stream",
     "text": [
      "After 15000 batches:\n",
      "Train accuracy = 93.85%\n",
      "Test accuracy = 93.85%\n",
      "\n",
      "After 17500 batches:\n",
      "Train accuracy = 94.22%\n",
      "Test accuracy = 94.32%\n",
      "\n",
      "After 20000 batches:\n",
      "Train accuracy = 94.24%\n",
      "Test accuracy = 94.38%\n",
      "\n"
     ]
    },
    {
     "data": {
      "application/vnd.jupyter.widget-view+json": {
       "model_id": "05c3d9eee49c4ce2880eb5e6bbdc6431",
       "version_major": 2,
       "version_minor": 0
      },
      "text/plain": [
       "  0%|          | 0/7500 [00:00<?, ?it/s]"
      ]
     },
     "metadata": {},
     "output_type": "display_data"
    },
    {
     "name": "stdout",
     "output_type": "stream",
     "text": [
      "After 22500 batches:\n",
      "Train accuracy = 94.84%\n",
      "Test accuracy = 94.65%\n",
      "\n",
      "After 25000 batches:\n",
      "Train accuracy = 95.13%\n",
      "Test accuracy = 95.16%\n",
      "\n",
      "After 27500 batches:\n",
      "Train accuracy = 95.47%\n",
      "Test accuracy = 95.46%\n",
      "\n"
     ]
    },
    {
     "data": {
      "application/vnd.jupyter.widget-view+json": {
       "model_id": "b275ee0c8d2b4c15aa7449655ca403e8",
       "version_major": 2,
       "version_minor": 0
      },
      "text/plain": [
       "  0%|          | 0/7500 [00:00<?, ?it/s]"
      ]
     },
     "metadata": {},
     "output_type": "display_data"
    },
    {
     "name": "stdout",
     "output_type": "stream",
     "text": [
      "After 30000 batches:\n",
      "Train accuracy = 95.92%\n",
      "Test accuracy = 95.60%\n",
      "\n",
      "After 32500 batches:\n",
      "Train accuracy = 95.87%\n",
      "Test accuracy = 95.71%\n",
      "\n",
      "After 35000 batches:\n",
      "Train accuracy = 96.42%\n",
      "Test accuracy = 95.94%\n",
      "\n"
     ]
    }
   ],
   "source": [
    "train_losses = train(5)"
   ]
  },
  {
   "cell_type": "code",
   "execution_count": 11,
   "id": "6bb28f45",
   "metadata": {
    "scrolled": false
   },
   "outputs": [
    {
     "data": {
      "text/plain": [
       "[<matplotlib.lines.Line2D at 0x170f580da80>]"
      ]
     },
     "execution_count": 11,
     "metadata": {},
     "output_type": "execute_result"
    },
    {
     "data": {
      "image/png": "[encoded data removed]",
      "text/plain": [
       "<Figure size 640x480 with 1 Axes>"
      ]
     },
     "metadata": {},
     "output_type": "display_data"
    }
   ],
   "source": [
    "plt.plot(train_losses)"
   ]
  },
  {
   "cell_type": "code",
   "execution_count": 12,
   "id": "c2dc13be",
   "metadata": {},
   "outputs": [
    {
     "data": {
      "text/plain": [
       "[<matplotlib.lines.Line2D at 0x1708627ab30>]"
      ]
     },
     "execution_count": 12,
     "metadata": {},
     "output_type": "execute_result"
    },
    {
     "data": {
      "image/png": "[encoded data removed]",
      "text/plain": [
       "<Figure size 640x480 with 1 Axes>"
      ]
     },
     "metadata": {},
     "output_type": "display_data"
    }
   ],
   "source": [
    "# Plotting moving averages instead of raw noisy losses:\n",
    "# https://stackoverflow.com/questions/11352047/finding-moving-average-from-data-points-in-python\n",
    "window_width = 500\n",
    "cumsum_vec = np.cumsum(np.insert(train_losses, 0, 0)) \n",
    "ma_vec = (cumsum_vec[window_width:] - cumsum_vec[:-window_width]) / window_width\n",
    "plt.plot(ma_vec)"
   ]
  },
  {
   "cell_type": "code",
   "execution_count": 13,
   "id": "9b2a1e04",
   "metadata": {},
   "outputs": [
    {
     "data": {
      "image/png": "[encoded data removed]",
      "text/plain": [
       "<Figure size 640x480 with 6 Axes>"
      ]
     },
     "metadata": {},
     "output_type": "display_data"
    }
   ],
   "source": [
    "fig = plt.figure()\n",
    "for i in range(6):\n",
    "    image, label = test_mnist[i]\n",
    "    plt.subplot(2,3,i+1)\n",
    "    plt.tight_layout()\n",
    "    with torch.no_grad():\n",
    "        pred = model(image.view(-1).to(device))\n",
    "    plt.imshow(torchvision.transforms.ToPILImage()(image), cmap=\"Greys\")\n",
    "    plt.title(f\"Prediction: {torch.argmax(pred)} ({torch.max(torch.nn.functional.softmax(pred, dim=0)):.1%})\")\n",
    "    plt.xticks([])\n",
    "    plt.yticks([])"
   ]
  },
  {
   "cell_type": "markdown",
   "id": "6b05fdd0",
   "metadata": {},
   "source": [
    "# The end!"
   ]
  }
 ],
 "metadata": {
  "kernelspec": {
   "display_name": "Python 3 (ipykernel)",
   "language": "python",
   "name": "python3"
  },
  "language_info": {
   "codemirror_mode": {
    "name": "ipython",
    "version": 3
   },
   "file_extension": ".py",
   "mimetype": "text/x-python",
   "name": "python",
   "nbconvert_exporter": "python",
   "pygments_lexer": "ipython3",
   "version": "3.10.6"
  }
 },
 "nbformat": 4,
 "nbformat_minor": 5
}
