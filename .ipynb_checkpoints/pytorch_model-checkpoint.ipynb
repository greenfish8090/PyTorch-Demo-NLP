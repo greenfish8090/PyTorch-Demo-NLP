{
 "cells": [
  {
   "cell_type": "markdown",
   "id": "70701c69",
   "metadata": {},
   "source": [
    "# Imports"
   ]
  },
  {
   "cell_type": "code",
   "execution_count": null,
   "id": "a2068c7c",
   "metadata": {},
   "outputs": [],
   "source": [
    "import torch\n",
    "\n",
    "# Visualization\n",
    "from torchviz import make_dot"
   ]
  },
  {
   "cell_type": "markdown",
   "id": "7804edc0",
   "metadata": {},
   "source": [
    "# A sample neural network\n",
    "![image.png](images/sample_model.png)"
   ]
  },
  {
   "cell_type": "code",
   "execution_count": null,
   "id": "967ee6f6",
   "metadata": {},
   "outputs": [],
   "source": [
    "class DemoModel(torch.nn.Module):\n",
    "    def __init__(self, in_size, hidden_size, out_size):\n",
    "        super().__init__()\n",
    "        self.fc1 = torch.nn.Linear(in_size, hidden_size)\n",
    "        self.fc2 = torch.nn.Linear(hidden_size, hidden_size)\n",
    "        self.fc3 = torch.nn.Linear(hidden_size, out_size)\n",
    "        \n",
    "    def forward(self, x):\n",
    "        x = self.fc1(x) # Equivalent to self.fc1.forward(x)\n",
    "        x = torch.sigmoid(x)\n",
    "        x = self.fc2(x)\n",
    "        x = torch.sigmoid(x)\n",
    "        out = self.fc3(x)\n",
    "        return out"
   ]
  },
  {
   "cell_type": "code",
   "execution_count": null,
   "id": "496fe3b0",
   "metadata": {},
   "outputs": [],
   "source": [
    "model = DemoModel(3, 16, 1)\n",
    "model"
   ]
  },
  {
   "cell_type": "code",
   "execution_count": null,
   "id": "9ed004ab",
   "metadata": {},
   "outputs": [],
   "source": [
    "inp = torch.randn(3)\n",
    "inp"
   ]
  },
  {
   "cell_type": "code",
   "execution_count": null,
   "id": "e3856c66",
   "metadata": {},
   "outputs": [],
   "source": [
    "out = model(inp)\n",
    "out"
   ]
  },
  {
   "cell_type": "code",
   "execution_count": null,
   "id": "f980698b",
   "metadata": {},
   "outputs": [],
   "source": [
    "make_dot(out)"
   ]
  },
  {
   "cell_type": "code",
   "execution_count": null,
   "id": "4d95fc31",
   "metadata": {},
   "outputs": [],
   "source": []
  }
 ],
 "metadata": {
  "kernelspec": {
   "display_name": "Python 3 (ipykernel)",
   "language": "python",
   "name": "python3"
  },
  "language_info": {
   "codemirror_mode": {
    "name": "ipython",
    "version": 3
   },
   "file_extension": ".py",
   "mimetype": "text/x-python",
   "name": "python",
   "nbconvert_exporter": "python",
   "pygments_lexer": "ipython3",
   "version": "3.10.6"
  },
  "vscode": {
   "interpreter": {
    "hash": "7e6ee82123c54f20720b422e601c1fa879147b13241747707b1e8c09e643c628"
   }
  }
 },
 "nbformat": 4,
 "nbformat_minor": 5
}
